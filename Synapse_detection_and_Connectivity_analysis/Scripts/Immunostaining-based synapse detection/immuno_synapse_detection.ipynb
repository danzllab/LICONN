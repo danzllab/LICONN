{
 "cells": [
  {
   "cell_type": "code",
   "execution_count": 1,
   "id": "3ddb8191-5da6-4721-b9e0-c2133c9cf9e6",
   "metadata": {},
   "outputs": [],
   "source": [
    "import numpy as np\n",
    "import pandas as pd\n",
    "import tifffile\n",
    "import napari\n",
    "from scipy import ndimage as ndi\n",
    "from skimage.filters import threshold_otsu,gaussian\n",
    "from skimage.morphology import ball, binary_dilation, binary_opening\n",
    "from skimage import exposure\n",
    "from skimage.exposure import rescale_intensity\n",
    "from skimage.measure import label, regionprops\n",
    "from scipy.optimize import linear_sum_assignment\n",
    "from scipy.spatial import distance\n",
    "from sklearn.metrics import pairwise_distances\n",
    "import json\n",
    "import zarr\n",
    "from ast import literal_eval\n",
    "pd.options.mode.chained_assignment = None"
   ]
  },
  {
   "cell_type": "markdown",
   "id": "ea0de5d1-5c73-4ae4-bde1-3900d24b7893",
   "metadata": {
    "tags": []
   },
   "source": [
    "### Helper functions"
   ]
  },
  {
   "cell_type": "code",
   "execution_count": 2,
   "id": "ef8dda7f-59c6-4506-b285-b9aa8bce166c",
   "metadata": {},
   "outputs": [],
   "source": [
    "def erase_small_in_z(labels, min_size):\n",
    "    rps = regionprops(labels)\n",
    "    for r in rps:\n",
    "        len_in_z = r.bbox[3]-r.bbox[0]\n",
    "        if len_in_z<min_size:\n",
    "            labels[labels==r.label]=0\n",
    "    return labels"
   ]
  },
  {
   "cell_type": "code",
   "execution_count": 3,
   "id": "2610857c-a97a-4db3-b129-ae73cc9ac015",
   "metadata": {},
   "outputs": [],
   "source": [
    "def erase_small(labels, min_size):\n",
    "    unique, counts = np.unique(labels, return_counts=True)\n",
    "    for i in range(len(unique)):\n",
    "        if counts[i]<min_size:\n",
    "            labels[labels==unique[i]]=0\n",
    "    return labels"
   ]
  },
  {
   "cell_type": "code",
   "execution_count": 4,
   "id": "f21ce415-7173-4fc7-b0e9-94dbbb82958c",
   "metadata": {},
   "outputs": [],
   "source": [
    "def remove_backg(img, sig1=1,sig2=15):\n",
    "    img_sig =ndi.gaussian_filter(img, (sig1, sig1,sig1))\n",
    "    img_bcg = ndi.gaussian_filter(img, (sig2,sig2,sig2))\n",
    "    cleaned = img_sig - img_bcg\n",
    "    cleaned[cleaned<0]=0\n",
    "    return cleaned"
   ]
  },
  {
   "cell_type": "code",
   "execution_count": 5,
   "id": "c54e61b0-65e4-46e2-9d97-87a2bc9a87bc",
   "metadata": {},
   "outputs": [],
   "source": [
    "def create_immuno_mask(img, bcg,perc=99.5,sig1=2,sig2=10):\n",
    "    img = img.astype('float32')\n",
    "    mi = 101\n",
    "    ma = np.percentile(img, perc)\n",
    "    img_rescale = rescale_intensity(img, in_range=(mi, ma))\n",
    "    img_clean =remove_backg(img_rescale,sig1,sig2)\n",
    "    \n",
    "    threshold =  threshold_otsu(img_clean)\n",
    "    \n",
    "    mask = img_clean > threshold\n",
    "    labels = label(mask)\n",
    "    rp = regionprops(labels, intensity_image = bcg)\n",
    "    max_intensity = []\n",
    "    labels_list = []\n",
    "    \n",
    "    for r in rp:\n",
    "        labels_list.append(r.label)\n",
    "        max_intensity.append(np.amax(r.intensity_image))\n",
    "    data = list(zip(labels_list, max_intensity))\n",
    "    df = pd.DataFrame(data = data ,columns = [\"label\", \"max_intensity\"])\n",
    "    intensity_threshold = threshold_otsu(df[\"max_intensity\"].values)\n",
    "    print(intensity_threshold)\n",
    "    df['is_synapse'] = np.where(df['max_intensity'] > intensity_threshold, 'Yes', 'No')\n",
    "    labels_real = df[df[\"is_synapse\"]=='Yes']\n",
    "    real_labels = list(labels_real[\"label\"])\n",
    "    img_real_labels = np.isin(labels,real_labels)\n",
    "    img_real_labels  = labels*img_real_labels\n",
    "    mask_filtered = img_real_labels>0\n",
    "    return mask_filtered"
   ]
  },
  {
   "cell_type": "code",
   "execution_count": 6,
   "id": "bf634ba6-03a9-4567-bdf4-2e41b1b26255",
   "metadata": {},
   "outputs": [],
   "source": [
    "def edistance (loc1,loc2):\n",
    "    return np.sqrt((loc1[0]-loc2[0])**2 + (loc1[1]-loc2[1])**2 + (loc1[2]-loc2[2])**2)"
   ]
  },
  {
   "cell_type": "code",
   "execution_count": 7,
   "id": "99459831-835c-4712-ab15-a89bacdcde81",
   "metadata": {},
   "outputs": [],
   "source": [
    "def cost(location1, location2, matching_threshold):\n",
    "    max_cost = 2 * matching_threshold\n",
    "\n",
    "    # First check of the nodes are part of the same segment\n",
    "    pre_dist = edistance(location1, location2)\n",
    "    if pre_dist > matching_threshold:\n",
    "        return max_cost\n",
    "    dist = pre_dist\n",
    "    return dist"
   ]
  },
  {
   "cell_type": "code",
   "execution_count": 32,
   "id": "09aa2332-5ed1-49de-8ab8-44834f478651",
   "metadata": {},
   "outputs": [],
   "source": [
    "def cost_matrix(predicted, immuno, matching_threshold):\n",
    "    print(\"Computing matching costs...\")\n",
    "\n",
    "    size = max(len(predicted), len(immuno))\n",
    "    costs = np.zeros((size, size), dtype=np.float32)\n",
    "    costs[:] = 2 * matching_threshold\n",
    "    num_potential_matches = 0\n",
    "    for i in range(len(predicted)):\n",
    "        for j in range(len(immuno)):\n",
    "            c = cost(predicted[i], immuno[j], matching_threshold)\n",
    "            costs[i, j] = c\n",
    "            if c <= matching_threshold:\n",
    "                num_potential_matches += 1\n",
    "\n",
    "    print(str(num_potential_matches) + \" potential matches found\")\n",
    "\n",
    "    return costs"
   ]
  },
  {
   "cell_type": "code",
   "execution_count": 33,
   "id": "0ae352e9-99d5-4c99-9872-256c4da063de",
   "metadata": {},
   "outputs": [],
   "source": [
    "def compute_molecule_detection_quality(locs_gt, locs_detected, matching_threshold):\n",
    "    costs = cost_matrix(locs_detected, locs_gt, matching_threshold)\n",
    "    matches = linear_sum_assignment(costs - np.amax(costs) - 1)\n",
    "    matches = zip(matches[0], matches[1])  # scipy returns matches as numpy arrays\n",
    "\n",
    "    filtered_matches = [(i, j) for (i, j) in matches if costs[i][j] <= matching_threshold]\n",
    "    fp = len(locs_detected) - len(filtered_matches)\n",
    "\n",
    "    # unmatched in gt = FN\n",
    "    fn = len(locs_gt) - len(filtered_matches)\n",
    "    \n",
    "        # all ground truth elements - FN = TP\n",
    "    tp = len(locs_gt) - fn\n",
    "    \n",
    "    precision = float(tp) / (tp + fp) if (tp + fp) > 0 else 0\n",
    "    recall = float(tp) / (tp + fn) if (tp + fn) > 0 else 0\n",
    "    if (precision + recall) > 0:\n",
    "        fscore = 2.0 * precision * recall / (precision + recall)\n",
    "    else:\n",
    "        fscore = 0.0\n",
    "    print(\"TP:\" + str(tp))\n",
    "    print(\"FP:\" + str(fp))\n",
    "    print(\"FN:\" + str(fn))\n",
    "    print('Precision:' + str(precision))\n",
    "    print('Recall:' + str(recall))\n",
    "    print('F1 score:' + str(fscore))\n",
    "    return precision,recall,fscore,filtered_matches"
   ]
  },
  {
   "cell_type": "code",
   "execution_count": 34,
   "id": "207c8cb7-e550-448b-86a9-68cc430037a1",
   "metadata": {},
   "outputs": [],
   "source": [
    "def generate_matching_map(presyn_coords,postsyn_coords,matching_threshold=30):\n",
    "    locs_pre_synapse = np.stack(presyn_coords)\n",
    "    locs_post_synapse = np.stack(postsyn_coords)\n",
    "    costs = cost_matrix(locs_post_synapse, locs_pre_synapse,matching_threshold)\n",
    "\n",
    "    matches = linear_sum_assignment(costs - np.amax(costs) - 1)\n",
    "    matches = zip(matches[0], matches[1])  # scipy returns matches as numpy arrays\n",
    "\n",
    "    filtered_matches = [(i, j) for (i, j) in matches if costs[i][j] <= matching_threshold]\n",
    "    matches_map = np.zeros(costs.shape)\n",
    "\n",
    "    for i in range(costs.shape[0]):\n",
    "        post_pre_connection_id = np.argmin(costs[i,:])\n",
    "        if np.amin(costs[i,:])<=matching_threshold:\n",
    "            matches_map[i,post_pre_connection_id]=1\n",
    "\n",
    "    for i in range(costs.shape[0]):\n",
    "        pre_post_connection_id = np.argmin(costs[:,i])\n",
    "        if (np.amin(costs[:,i])<=matching_threshold) and (sum(matches_map[:,i])==0):\n",
    "            matches_map[pre_post_connection_id ,i]=1\n",
    "    return matches_map,filtered_matches"
   ]
  },
  {
   "cell_type": "code",
   "execution_count": 35,
   "id": "2b6d76bb-d1f5-4737-a25b-48f5e76db6b2",
   "metadata": {},
   "outputs": [],
   "source": [
    "def match_detected_and_gt_full_synapses(pre_synapses_gt, post_synapses_gt, full_synapses_gt,filtered_matches_bassoon,filtered_matches_shank2):\n",
    "\n",
    "    inv_filtered_matches_shank2 = dict((v, k) for k, v in dict(filtered_matches_shank2).items())\n",
    "    inv_filtered_matches_bassoon = dict((v, k) for k, v in dict(filtered_matches_bassoon).items())\n",
    "\n",
    "    full_synapses_gt_and_detected = full_synapses_gt\n",
    "    full_synapses_gt_and_detected['post_id_detected_matched'] = -1\n",
    "    full_synapses_gt_and_detected['pre_id_detected_matched'] = -1\n",
    "\n",
    "    for i in range(len(full_synapses_gt_and_detected)):\n",
    "        post_id = full_synapses_gt_and_detected['post_id'].loc[i]\n",
    "        ind = post_synapses_gt[post_synapses_gt['id']==post_id].index[0]\n",
    "        if ind in dict(inv_filtered_matches_shank2):\n",
    "            full_synapses_gt_and_detected['post_id_detected_matched'].loc[i] = dict(inv_filtered_matches_shank2)[ind]\n",
    "\n",
    "    for i in range(len(full_synapses_gt_and_detected)):\n",
    "        pre_id = full_synapses_gt_and_detected['pre_id'].loc[i]\n",
    "        ind = pre_synapses_gt[pre_synapses_gt['id']==pre_id].index[0]\n",
    "        if ind in dict(inv_filtered_matches_bassoon):\n",
    "            full_synapses_gt_and_detected['pre_id_detected_matched'].loc[i] = dict(inv_filtered_matches_bassoon)[ind]\n",
    "\n",
    "    return full_synapses_gt_and_detected"
   ]
  },
  {
   "cell_type": "code",
   "execution_count": 36,
   "id": "c418d224-df7f-42ee-a67b-8a930f485cba",
   "metadata": {},
   "outputs": [],
   "source": [
    "def compute_full_synapse_detection_quality(full_synapses_gt_and_detected,matches_map):\n",
    "#add column that stores information about the detection\n",
    "    full_synapses_gt_and_detected['Detection is correct'] = 'No'\n",
    "\n",
    "    #check if the deected pre-and-post are connected inn the detection as well\n",
    "    for i in range(len(full_synapses_gt_and_detected)):\n",
    "        post_id = full_synapses_gt_and_detected['post_id_detected_matched'].loc[i]\n",
    "        pre_id = full_synapses_gt_and_detected['pre_id_detected_matched'].loc[i]\n",
    "        if matches_map[post_id,pre_id]>0:\n",
    "            full_synapses_gt_and_detected['Detection is correct'].loc[i]='Yes'\n",
    "            matches_map[post_id,pre_id]=2\n",
    "\n",
    "    un, counts = np.unique(matches_map, return_counts = True)\n",
    "    fp = counts[1]\n",
    "    print('FP full-synapse:' + str(fp))\n",
    "    fp_ids = np.where(matches_map==1)\n",
    "    fp_ids_post = fp_ids[0]\n",
    "    fp_ids_pre = fp_ids[1]\n",
    "\n",
    "    tps = full_synapses_gt_and_detected[full_synapses_gt_and_detected[\"Detection is correct\"]=='Yes']\n",
    "    tp = len(tps)\n",
    "    print('TP full-synapse:' + str(tp))\n",
    "\n",
    "    fns = full_synapses_gt_and_detected[full_synapses_gt_and_detected[\"Detection is correct\"]=='No']\n",
    "    fn = len(fns)\n",
    "    print('FN full-synapse:' + str(fn))\n",
    "   \n",
    "    precision = float(tp) / (tp + fp) if (tp + fp) > 0 else 0\n",
    "    recall = float(tp) / (tp + fn) if (tp + fn) > 0 else 0\n",
    "    if (precision + recall) > 0:\n",
    "        fscore = 2.0 * precision * recall / (precision + recall)\n",
    "    else:\n",
    "        fscore = 0.0\n",
    "\n",
    "    print('Precision:' + str(precision))\n",
    "    print('Recall:' + str(recall))\n",
    "    print('F1 score:' + str(fscore))\n",
    "    return precision,recall,fscore"
   ]
  },
  {
   "cell_type": "markdown",
   "id": "1baf7b0a-8590-4a6d-b61d-153714156f96",
   "metadata": {
    "tags": []
   },
   "source": [
    "### 1. Load imaging data"
   ]
  },
  {
   "cell_type": "code",
   "execution_count": 13,
   "id": "7476bff7-426e-4d30-856f-b871a9287473",
   "metadata": {},
   "outputs": [],
   "source": [
    "img_path = '../../Data/LICONN_test_dataset.tif'\n",
    "gt_image = tifffile.imread(img_path)"
   ]
  },
  {
   "cell_type": "code",
   "execution_count": 14,
   "id": "f49d5c57-c0a2-469e-86a1-338ddae347ad",
   "metadata": {},
   "outputs": [],
   "source": [
    "bassoon = gt_image[:,1,:,:]\n",
    "shank2 = gt_image[:,0,:,:]\n",
    "liconn = gt_image[:,2,:,:]"
   ]
  },
  {
   "cell_type": "code",
   "execution_count": 15,
   "id": "525b59aa-d8ea-40c1-a14b-1c2bb0731847",
   "metadata": {},
   "outputs": [
    {
     "data": {
      "text/plain": [
       "<Image layer 'shank2' at 0x1ecf1574ca0>"
      ]
     },
     "execution_count": 15,
     "metadata": {},
     "output_type": "execute_result"
    }
   ],
   "source": [
    "viewer = napari.Viewer()\n",
    "viewer.add_image(liconn,colormap='gray')\n",
    "viewer.add_image(bassoon,colormap = 'cyan', blending = 'additive')\n",
    "viewer.add_image(shank2,colormap = 'magenta', blending = 'additive')"
   ]
  },
  {
   "cell_type": "markdown",
   "id": "e97e3442-b371-4800-bf91-9148556f34a3",
   "metadata": {
    "tags": []
   },
   "source": [
    "### 2. Load GT annotations"
   ]
  },
  {
   "cell_type": "code",
   "execution_count": 16,
   "id": "5d6a49d9-3f8e-4500-ac31-8db28a682429",
   "metadata": {},
   "outputs": [],
   "source": [
    "# Opening JSON file\n",
    "f = open('../../Data/LICONN_test_dataset_full_synapses.json')\n",
    "data = json.load(f)"
   ]
  },
  {
   "cell_type": "code",
   "execution_count": 17,
   "id": "64798ecb-6b1f-4fe4-af3a-507cef330b2a",
   "metadata": {},
   "outputs": [],
   "source": [
    "pre_synapses_gt = pd.DataFrame(columns = ['id', 'location'])\n",
    "post_synapses_gt = pd.DataFrame(columns = ['id', 'location'])\n",
    "full_synapses_gt = pd.DataFrame(columns = ['post_id', 'post_coordinate', 'pre_id', 'pre_coordinate'])"
   ]
  },
  {
   "cell_type": "code",
   "execution_count": 18,
   "id": "1c9ce396-2cd8-4372-8352-48ee3935e894",
   "metadata": {},
   "outputs": [],
   "source": [
    "for i in range(len(data['partners'])):\n",
    "    \n",
    "    pre_id = int(data['partners'][i]['pre-synapse'])\n",
    "    pre_location = data['ids'][str(pre_id)]['location']\n",
    "    data_pre = [[pre_id, pre_location[::-1]]]\n",
    "    pre_synapses_gt = pd.concat([pre_synapses_gt,pd.DataFrame(columns = ['id', 'location'], data = data_pre)],ignore_index=True)\n",
    "    \n",
    "    post_id = int(data['partners'][i]['post-synapse'])\n",
    "    post_location = data['ids'][str(post_id)]['location']\n",
    "    data_post = [[post_id, post_location[::-1]]]\n",
    "    post_synapses_gt = pd.concat([post_synapses_gt,pd.DataFrame(columns = ['id', 'location'], data = data_post)],ignore_index=True)\n",
    "    \n",
    "    full_data = [[post_id, post_location[::-1], pre_id, pre_location[::-1]]]\n",
    "    full_synapses_gt =pd.concat([full_synapses_gt,pd.DataFrame(columns = ['post_id', 'post_coordinate', 'pre_id', 'pre_coordinate'], data = full_data)], ignore_index=True)"
   ]
  },
  {
   "cell_type": "code",
   "execution_count": 19,
   "id": "3c588a4d-e865-449a-8b26-f381f37ec839",
   "metadata": {},
   "outputs": [],
   "source": [
    "pre_synapses_gt = pre_synapses_gt.drop_duplicates(subset=[\"id\"], keep='first')\n",
    "post_synapses_gt = post_synapses_gt.drop_duplicates(subset=[\"id\"], keep='first')"
   ]
  },
  {
   "cell_type": "code",
   "execution_count": 20,
   "id": "92facee1-2f89-423c-98ba-414df475d636",
   "metadata": {},
   "outputs": [],
   "source": [
    "f = open('../../Data/LICONN_test_dataset_single_pre.json')\n",
    "data = json.load(f)"
   ]
  },
  {
   "cell_type": "code",
   "execution_count": 21,
   "id": "20e17e6e-519d-4b58-83b1-cd214545f24b",
   "metadata": {},
   "outputs": [],
   "source": [
    "pre_synapses_gt_single = pd.DataFrame(columns = ['id', 'location'])\n",
    "post_synapses_gt_single = pd.DataFrame(columns = ['id', 'location'])"
   ]
  },
  {
   "cell_type": "code",
   "execution_count": 22,
   "id": "03a33683-aa5d-4eb2-afa8-e3e8506efca5",
   "metadata": {},
   "outputs": [],
   "source": [
    "for i in list(data['ids']):\n",
    "    pre_id = int(i)\n",
    "    pre_location = data['ids'][str(pre_id)]['location']\n",
    "    data_pre = [[pre_id, pre_location[::-1]]]\n",
    "    pre_synapses_gt_single = pd.concat([pre_synapses_gt_single,pd.DataFrame(columns = ['id', 'location'], data = data_pre)],ignore_index=True)"
   ]
  },
  {
   "cell_type": "code",
   "execution_count": 23,
   "id": "d2128c61-9f63-48f6-b22d-4bcb1f00f4cd",
   "metadata": {},
   "outputs": [],
   "source": [
    "f = open('../../Data/LICONN_test_dataset_single_post.json')\n",
    "data = json.load(f)"
   ]
  },
  {
   "cell_type": "code",
   "execution_count": 24,
   "id": "850721cd-6de3-4329-8924-fd8fe6dbc17c",
   "metadata": {},
   "outputs": [],
   "source": [
    "for i in list(data['ids']):\n",
    "    post_id = int(i)\n",
    "    post_location = data['ids'][str(post_id)]['location']\n",
    "    data_post = [[post_id, post_location[::-1]]]\n",
    "    post_synapses_gt_single = pd.concat([post_synapses_gt_single,pd.DataFrame(columns = ['id', 'location'], data = data_post)],ignore_index=True)"
   ]
  },
  {
   "cell_type": "code",
   "execution_count": 25,
   "id": "c0060090-223e-4bd4-931e-8f103d93ee14",
   "metadata": {},
   "outputs": [],
   "source": [
    "pre_synapses_gt = pd.concat([pre_synapses_gt,pre_synapses_gt_single],ignore_index=True)\n",
    "post_synapses_gt = pd.concat([post_synapses_gt,post_synapses_gt_single],ignore_index=True)"
   ]
  },
  {
   "cell_type": "code",
   "execution_count": 26,
   "id": "0c2a8ea1-d410-4936-9760-ce224aa2a51b",
   "metadata": {},
   "outputs": [],
   "source": [
    "locs_bassoon_gt = np.stack(pre_synapses_gt['location'].values)\n",
    "locs_shank2_gt = np.stack(post_synapses_gt['location'].values)"
   ]
  },
  {
   "cell_type": "markdown",
   "id": "34209d46-be00-4363-a8d4-12e3e7e1200a",
   "metadata": {
    "tags": []
   },
   "source": [
    "### 3. Detect synases from immuo signal"
   ]
  },
  {
   "cell_type": "markdown",
   "id": "5b73d4fa-9324-4923-a423-61b8b31fc47c",
   "metadata": {},
   "source": [
    "##### 3.1 bassoon (pre-synapse) detection"
   ]
  },
  {
   "cell_type": "code",
   "execution_count": 27,
   "id": "5a5d9568-ca59-49c7-9806-0e27973567fd",
   "metadata": {},
   "outputs": [
    {
     "name": "stdout",
     "output_type": "stream",
     "text": [
      "373\n"
     ]
    }
   ],
   "source": [
    "bassoon_immuno_mask = create_immuno_mask(bassoon,liconn,99.5,5,11)"
   ]
  },
  {
   "cell_type": "code",
   "execution_count": 28,
   "id": "48e833ed-6962-48be-aaf2-c832d7e868ac",
   "metadata": {},
   "outputs": [],
   "source": [
    "labels_basson_immuno = label(bassoon_immuno_mask)\n",
    "labels_basson_immuno = erase_small(labels_basson_immuno, 60)\n",
    "rp = regionprops(labels_basson_immuno, intensity_image = liconn)\n",
    "\n",
    "# save not z-filtered results for the final post-processing step\n",
    "presyn_coords_immuno_nozclean = []\n",
    "for r in rp:\n",
    "    presyn_coords_immuno_nozclean.append(np.array(r.centroid_weighted))\n",
    "    \n",
    "labels_basson_immuno = erase_small_in_z(labels_basson_immuno, 13)\n",
    "rp = regionprops(labels_basson_immuno, intensity_image = liconn)\n",
    "presyn_coords_immuno = []\n",
    "for r in rp:\n",
    "    presyn_coords_immuno.append(np.array(r.centroid_weighted))"
   ]
  },
  {
   "cell_type": "markdown",
   "id": "f87b09dd-da2e-4630-8005-28c0d3a9a453",
   "metadata": {},
   "source": [
    "##### 3.2 shank2 (post-synapse) detection"
   ]
  },
  {
   "cell_type": "code",
   "execution_count": 29,
   "id": "f329d1e1-ca5e-4966-a0ca-e0ee9217632e",
   "metadata": {},
   "outputs": [
    {
     "name": "stdout",
     "output_type": "stream",
     "text": [
      "387\n"
     ]
    }
   ],
   "source": [
    "shank2_immuno_mask = create_immuno_mask(shank2,liconn,99,4,11)"
   ]
  },
  {
   "cell_type": "code",
   "execution_count": 30,
   "id": "6439f699-52d3-49ca-873b-b29a776f3519",
   "metadata": {},
   "outputs": [],
   "source": [
    "labels_shank2_immuno = label(shank2_immuno_mask)\n",
    "labels_shank2_immuno = erase_small(labels_shank2_immuno, 60)\n",
    "rp = regionprops(labels_shank2_immuno, intensity_image = liconn)\n",
    "\n",
    "# save not z-filtered results for the final post-processing step\n",
    "postsyn_coords_immuno_nozclean = []\n",
    "for r in rp:\n",
    "    postsyn_coords_immuno_nozclean.append(np.array(r.centroid_weighted))\n",
    "    \n",
    "labels_shank2_immuno = erase_small_in_z(labels_shank2_immuno, 13)\n",
    "rp = regionprops(labels_shank2_immuno, intensity_image = liconn)\n",
    "postsyn_coords_immuno = []\n",
    "for r in rp:\n",
    "    postsyn_coords_immuno.append(np.array(r.centroid_weighted))"
   ]
  },
  {
   "cell_type": "markdown",
   "id": "42234d51-3f11-4d54-845e-597df57615cf",
   "metadata": {},
   "source": [
    "##### 3.3 match pre and post synapses to detect full synapses (generate matches map)"
   ]
  },
  {
   "cell_type": "code",
   "execution_count": 31,
   "id": "1ed5c783-7bb6-4076-bed0-b6c3baccd91a",
   "metadata": {},
   "outputs": [
    {
     "name": "stdout",
     "output_type": "stream",
     "text": [
      "Computing matching costs...\n",
      "221 potential matches found\n"
     ]
    }
   ],
   "source": [
    "matches_map_initial,filtered_matches_immuno_detecion = generate_matching_map(presyn_coords_immuno,postsyn_coords_immuno,matching_threshold=30)"
   ]
  },
  {
   "cell_type": "markdown",
   "id": "71a1816d-fe19-4d4c-9d8e-0a8cb26ab3a9",
   "metadata": {
    "tags": []
   },
   "source": [
    "### 4. Validation"
   ]
  },
  {
   "cell_type": "markdown",
   "id": "0a402996-a2db-4093-a02a-1e407ad40ebf",
   "metadata": {},
   "source": [
    "##### 4.1 Single bassoon and shank2 detection validation"
   ]
  },
  {
   "cell_type": "code",
   "execution_count": 37,
   "id": "6cdaa605-95d7-4d30-b89d-f700435760d5",
   "metadata": {},
   "outputs": [],
   "source": [
    "matching_threshold = 30"
   ]
  },
  {
   "cell_type": "code",
   "execution_count": 38,
   "id": "7be1bffc-f7ab-43d0-b373-e1ff147fdfef",
   "metadata": {},
   "outputs": [
    {
     "name": "stdout",
     "output_type": "stream",
     "text": [
      "Computing matching costs...\n",
      "253 potential matches found\n",
      "TP:232\n",
      "FP:20\n",
      "FN:29\n",
      "Precision:0.9206349206349206\n",
      "Recall:0.8888888888888888\n",
      "F1 score:0.9044834307992203\n"
     ]
    }
   ],
   "source": [
    "precision,recall,fscore,filtered_matches_bassoon = compute_molecule_detection_quality(locs_bassoon_gt,np.stack(presyn_coords_immuno), matching_threshold)"
   ]
  },
  {
   "cell_type": "code",
   "execution_count": 39,
   "id": "93b60c18-83c2-46cc-9ae4-21b06d32fa76",
   "metadata": {},
   "outputs": [
    {
     "name": "stdout",
     "output_type": "stream",
     "text": [
      "Computing matching costs...\n",
      "242 potential matches found\n",
      "TP:214\n",
      "FP:2\n",
      "FN:33\n",
      "Precision:0.9907407407407407\n",
      "Recall:0.8663967611336032\n",
      "F1 score:0.9244060475161986\n"
     ]
    }
   ],
   "source": [
    "precision,recall,fscore,filtered_matches_shank2 = compute_molecule_detection_quality(locs_shank2_gt,np.stack(postsyn_coords_immuno), matching_threshold)"
   ]
  },
  {
   "cell_type": "markdown",
   "id": "51ae1f32-d894-4e3b-bc08-9d06bf7c099f",
   "metadata": {},
   "source": [
    "##### 4.2 Full synapse detection quality"
   ]
  },
  {
   "cell_type": "code",
   "execution_count": 40,
   "id": "68d244d0-eb16-4cda-9656-b77b2a075593",
   "metadata": {},
   "outputs": [],
   "source": [
    "#match detected bassoon and shank2 with full gt synapses\n",
    "full_synapses_gt_and_immuno = match_detected_and_gt_full_synapses(pre_synapses_gt, post_synapses_gt, full_synapses_gt,filtered_matches_bassoon,filtered_matches_shank2)"
   ]
  },
  {
   "cell_type": "code",
   "execution_count": 41,
   "id": "d5a6a1c7-a54d-4dcd-b89e-1e2e89a52b7f",
   "metadata": {},
   "outputs": [
    {
     "name": "stdout",
     "output_type": "stream",
     "text": [
      "FP full-synapse:13\n",
      "TP full-synapse:201\n",
      "FN full-synapse:41\n",
      "Precision:0.9392523364485982\n",
      "Recall:0.8305785123966942\n",
      "F1 score:0.8815789473684211\n"
     ]
    }
   ],
   "source": [
    "#compute F1 score of full synapse detection\n",
    "fprecision,frecall,ffscore = compute_full_synapse_detection_quality(full_synapses_gt_and_immuno,matches_map_initial)"
   ]
  },
  {
   "cell_type": "markdown",
   "id": "9a8e059a-5e47-4fe8-97ba-47c735676a52",
   "metadata": {
    "tags": []
   },
   "source": [
    "### Post-processing"
   ]
  },
  {
   "cell_type": "markdown",
   "id": "10f5d323-1d35-47b7-aead-caffecb11e70",
   "metadata": {
    "tags": []
   },
   "source": [
    "##### Second look proofreading step"
   ]
  },
  {
   "cell_type": "code",
   "execution_count": 42,
   "id": "07f637a8-79cc-4359-be09-70bba52d167a",
   "metadata": {},
   "outputs": [],
   "source": [
    "def get_new_detections(bbox,gt_image,labels_bassoon,labels_shank2,current_presyn_coordinate, matching_threshold):\n",
    "    z0,y0,x0,z1,y1,x1 = bbox\n",
    "    bbassoon = gt_image[z0:z1,1,y0:y1,x0:x1]\n",
    "    bshank2 = gt_image[z0:z1,0,y0:y1,x0:x1]\n",
    "    bliconn = gt_image[z0:z1,2,y0:y1,x0:x1]\n",
    "    mi = np.percentile(bliconn, 1)\n",
    "    ma = np.percentile(bliconn, 99.95)\n",
    "    img_rescale = rescale_intensity(bliconn, in_range=(mi, ma))\n",
    "    cleaned_pan = remove_backg(img_rescale.astype('float32'), sig1=2,sig2=10)\n",
    "    mi = np.percentile(cleaned_pan, 95)\n",
    "    ma = np.percentile(cleaned_pan, 100)\n",
    "    threshold = 0.4*(ma-mi) + mi\n",
    "    pan_mask = cleaned_pan>threshold\n",
    "    mask_existing_labels = labels_shank2[z0:z1,y0:y1,x0:x1] + labels_bassoon[z0:z1,y0:y1,x0:x1]\n",
    "    mask_existing_labels = mask_existing_labels>0\n",
    "    potential_shank2_mask = pan_mask*~mask_existing_labels\n",
    "    potential_shank2_mask = binary_opening(potential_shank2_mask, ball(2))\n",
    "    labels_potential_shank2 = label(potential_shank2_mask)\n",
    "    labels_potential_shank2 = erase_small(labels_potential_shank2, 20)\n",
    "    rp = regionprops(labels_potential_shank2, intensity_image = bliconn)\n",
    "    new_postsyn_detections = []\n",
    "    for r in rp:\n",
    "        new_postsyn_detections.append(np.array(r.centroid_weighted))\n",
    "    final_new_shank2_list = []\n",
    "    for i in range(len(new_postsyn_detections)):\n",
    "        shank2_pos = new_postsyn_detections[i] + [z0,y0,x0]\n",
    "        bassoon_pos = current_presyn_coordinate\n",
    "        if edistance (shank2_pos,bassoon_pos )<matching_threshold:\n",
    "            final_new_shank2_list.append(shank2_pos)  \n",
    "    return final_new_shank2_list"
   ]
  },
  {
   "cell_type": "code",
   "execution_count": 43,
   "id": "48a32bac-32c9-4d27-b383-8cef9444ecb8",
   "metadata": {},
   "outputs": [],
   "source": [
    "doublecheck_detection_bassoon_list = []\n",
    "#find all flying bassoons without a pair\n",
    "for i in range(len(matches_map_initial)):\n",
    "    if sum(matches_map_initial[:,i])==0: #and i not in bassoon_detected_ids_to_remove:\n",
    "        doublecheck_detection_bassoon_list.append(i)"
   ]
  },
  {
   "cell_type": "code",
   "execution_count": 44,
   "id": "246af400-e635-4f81-b339-2f6e50ae018f",
   "metadata": {},
   "outputs": [],
   "source": [
    "doublecheck_detection_shank2_list = []\n",
    "#find all flying bassoons without a pair\n",
    "for i in range(len(matches_map_initial)):\n",
    "    if sum(matches_map_initial[i,:])==0: #and i not in shank2_detected_ids_to_remove:\n",
    "        doublecheck_detection_shank2_list.append(i)"
   ]
  },
  {
   "cell_type": "code",
   "execution_count": 45,
   "id": "108dbbdd-f14e-469c-b69f-7b1dde7bfb8c",
   "metadata": {},
   "outputs": [],
   "source": [
    "bboxes = []\n",
    "search_dist = 50\n",
    "i=0\n",
    "all_new_shank2 = []\n",
    "for ind in doublecheck_detection_bassoon_list:\n",
    "    coordinate = presyn_coords_immuno[ind].astype('uint16')\n",
    "    z0 = max(0,coordinate[0]-search_dist)\n",
    "    z1 = min(coordinate[0] + search_dist, bassoon.shape[0])\n",
    "    z_mid = ((z1-z0)/2).astype('uint16')\n",
    "    y0 = max(0,coordinate[1]-search_dist)\n",
    "    y1 = min(coordinate[1] + search_dist, bassoon.shape[1])\n",
    "    x0 = max(0,coordinate[2]-search_dist)\n",
    "    x1 = min(coordinate[2] + search_dist, bassoon.shape[2])\n",
    "    bboxes.append([z0,y0,x0,z1,y1,x1])  \n",
    "    final_new_shank2_list = get_new_detections([z0,y0,x0,z1,y1,x1],gt_image,labels_basson_immuno,labels_shank2_immuno,coordinate, matching_threshold)\n",
    "    if len(final_new_shank2_list)!=0:\n",
    "        for j in range(len(final_new_shank2_list)):\n",
    "            all_new_shank2.append(final_new_shank2_list[j])"
   ]
  },
  {
   "cell_type": "code",
   "execution_count": 46,
   "id": "d5088151-6aff-4cfe-a8d4-d4fbf6c020e4",
   "metadata": {},
   "outputs": [],
   "source": [
    "postsyn_coords_immuno_after_doublecheck = postsyn_coords_immuno+all_new_shank2"
   ]
  },
  {
   "cell_type": "code",
   "execution_count": 47,
   "id": "4cb4409a-e8f5-4504-a99b-c2c75b202401",
   "metadata": {},
   "outputs": [
    {
     "name": "stdout",
     "output_type": "stream",
     "text": [
      "Computing matching costs...\n",
      "255 potential matches found\n",
      "TP:223\n",
      "FP:7\n",
      "FN:24\n",
      "Precision:0.9695652173913043\n",
      "Recall:0.902834008097166\n",
      "F1 score:0.9350104821802935\n"
     ]
    }
   ],
   "source": [
    "precision,recall,fscore,filtered_matches_shank2 = compute_molecule_detection_quality(locs_shank2_gt,np.stack(postsyn_coords_immuno_after_doublecheck), matching_threshold)"
   ]
  },
  {
   "cell_type": "code",
   "execution_count": 48,
   "id": "2d8dc439-fa43-4814-96a7-9366702bc8f6",
   "metadata": {},
   "outputs": [],
   "source": [
    "bboxes = []\n",
    "search_dist = 50\n",
    "all_new_bassoons = []\n",
    "for ind in doublecheck_detection_shank2_list:\n",
    "    if ind < len(postsyn_coords_immuno):\n",
    "        coordinate = postsyn_coords_immuno[ind].astype('uint16')\n",
    "        z0 = max(0,coordinate[0]-search_dist)\n",
    "        z1 = min(coordinate[0] + search_dist, bassoon.shape[0])\n",
    "        z_mid = ((z1-z0)/2).astype('uint16')\n",
    "        y0 = max(0,coordinate[1]-search_dist)\n",
    "        y1 = min(coordinate[1] + search_dist, bassoon.shape[1])\n",
    "        x0 = max(0,coordinate[2]-search_dist)\n",
    "        x1 = min(coordinate[2] + search_dist, bassoon.shape[2])\n",
    "        bboxes.append([z0,y0,x0,z1,y1,x1])  \n",
    "        final_new_bassoon_list = get_new_detections([z0,y0,x0,z1,y1,x1],gt_image,labels_basson_immuno,labels_shank2_immuno,coordinate, matching_threshold)\n",
    "        if len(final_new_bassoon_list)!=0:\n",
    "            for j in range(len(final_new_bassoon_list)):\n",
    "                all_new_bassoons.append(final_new_bassoon_list[j])\n",
    "    #print(final_new_shank2_list)\n",
    "    #print('---')"
   ]
  },
  {
   "cell_type": "code",
   "execution_count": 49,
   "id": "7d619170-f80c-4431-8494-17815ff77f39",
   "metadata": {},
   "outputs": [],
   "source": [
    "presyn_coords_immuno_after_doublecheck = presyn_coords_immuno+all_new_bassoons"
   ]
  },
  {
   "cell_type": "code",
   "execution_count": 50,
   "id": "25f5687a-6c34-4276-b0c6-c1d9cc7aaf7a",
   "metadata": {},
   "outputs": [
    {
     "name": "stdout",
     "output_type": "stream",
     "text": [
      "Computing matching costs...\n",
      "254 potential matches found\n",
      "TP:233\n",
      "FP:20\n",
      "FN:28\n",
      "Precision:0.9209486166007905\n",
      "Recall:0.89272030651341\n",
      "F1 score:0.9066147859922179\n"
     ]
    }
   ],
   "source": [
    "matching_threshold = 30\n",
    "precision,recall,fscore,filtered_matches_bassoon = compute_molecule_detection_quality(locs_bassoon_gt,np.stack(presyn_coords_immuno_after_doublecheck), matching_threshold)"
   ]
  },
  {
   "cell_type": "code",
   "execution_count": 51,
   "id": "81a785f4-c699-4536-96f5-63a188055614",
   "metadata": {},
   "outputs": [
    {
     "name": "stdout",
     "output_type": "stream",
     "text": [
      "Computing matching costs...\n",
      "237 potential matches found\n"
     ]
    }
   ],
   "source": [
    "matches_map_doublecheck,  filtered_matches_immuno_detecion = generate_matching_map(presyn_coords_immuno_after_doublecheck,postsyn_coords_immuno_after_doublecheck,matching_threshold=30)"
   ]
  },
  {
   "cell_type": "code",
   "execution_count": 52,
   "id": "cbea8a4b-4e7d-4aac-9fef-b5a1968fb209",
   "metadata": {},
   "outputs": [],
   "source": [
    "#match detected bassoon and shank2 with full gt synapses\n",
    "full_synapses_gt_and_immuno_after_doublecheck = match_detected_and_gt_full_synapses(pre_synapses_gt, post_synapses_gt, full_synapses_gt,filtered_matches_bassoon,filtered_matches_shank2)"
   ]
  },
  {
   "cell_type": "code",
   "execution_count": 53,
   "id": "8ad6bc5f-9c8c-435b-bce4-86bc9a3fa00a",
   "metadata": {},
   "outputs": [
    {
     "name": "stdout",
     "output_type": "stream",
     "text": [
      "FP full-synapse:18\n",
      "TP full-synapse:211\n",
      "FN full-synapse:31\n",
      "Precision:0.9213973799126638\n",
      "Recall:0.871900826446281\n",
      "F1 score:0.8959660297239915\n"
     ]
    }
   ],
   "source": [
    "#compute F1 score of full synapse detection\n",
    "fprecision,frecall,ffscore = compute_full_synapse_detection_quality(full_synapses_gt_and_immuno_after_doublecheck,matches_map_doublecheck)"
   ]
  },
  {
   "cell_type": "markdown",
   "id": "216edfce-1211-40bc-b6c7-ab2a9e8da913",
   "metadata": {
    "tags": []
   },
   "source": [
    "##### Border cleaning step"
   ]
  },
  {
   "cell_type": "code",
   "execution_count": 54,
   "id": "edc5d3f7-ac1c-4101-a080-030e01068072",
   "metadata": {},
   "outputs": [
    {
     "name": "stdout",
     "output_type": "stream",
     "text": [
      "Computing matching costs...\n",
      "272 potential matches found\n",
      "TP:244\n",
      "FP:31\n",
      "FN:17\n",
      "Precision:0.8872727272727273\n",
      "Recall:0.9348659003831418\n",
      "F1 score:0.9104477611940298\n"
     ]
    }
   ],
   "source": [
    "matching_threshold = 30\n",
    "precision,recall,fscore,filtered_matches_bassoon_nozfilter = compute_molecule_detection_quality(locs_bassoon_gt,np.stack(presyn_coords_immuno_nozclean), matching_threshold)"
   ]
  },
  {
   "cell_type": "code",
   "execution_count": 55,
   "id": "280ce7d3-071d-4cbf-8bea-ac98af5f2e4e",
   "metadata": {},
   "outputs": [
    {
     "name": "stdout",
     "output_type": "stream",
     "text": [
      "Computing matching costs...\n",
      "254 potential matches found\n",
      "TP:233\n",
      "FP:20\n",
      "FN:28\n",
      "Precision:0.9209486166007905\n",
      "Recall:0.89272030651341\n",
      "F1 score:0.9066147859922179\n"
     ]
    }
   ],
   "source": [
    "matching_threshold = 30\n",
    "precision,recall,fscore,filtered_matches_bassoon_init = compute_molecule_detection_quality(locs_bassoon_gt,np.stack(presyn_coords_immuno_after_doublecheck), matching_threshold)"
   ]
  },
  {
   "cell_type": "code",
   "execution_count": 56,
   "id": "f57eb7c1-7e6a-4712-99e4-1cb484c07e3a",
   "metadata": {},
   "outputs": [],
   "source": [
    "tp_ids_init = list(zip(*filtered_matches_bassoon_init))[1]\n",
    "tp_ids_nozfilter = list(zip(*filtered_matches_bassoon_nozfilter))[1]\n",
    "s = set(tp_ids_init)\n",
    "potential_tps = [x for x in tp_ids_nozfilter if x not in s]"
   ]
  },
  {
   "cell_type": "code",
   "execution_count": 57,
   "id": "f35b3339-dc4d-4ef8-b3f9-7546115bca47",
   "metadata": {},
   "outputs": [],
   "source": [
    "inv_filtered_matches_bassoon_nozfilter = dict((v, k) for k, v in dict(filtered_matches_bassoon_nozfilter).items())"
   ]
  },
  {
   "cell_type": "code",
   "execution_count": 58,
   "id": "b30c645d-d045-4be6-8ca9-8770e47d81d5",
   "metadata": {},
   "outputs": [],
   "source": [
    "tps_to_keep = []\n",
    "new_presyn_immuno_detections = []\n",
    "new_tps=0\n",
    "for i in potential_tps:\n",
    "    if locs_bassoon_gt[i][0]<=10 or  locs_bassoon_gt[i][0]>=190:\n",
    "        tps_to_keep.append(i)\n",
    "        new_tps+=1\n",
    "        new_presyn_immuno_detections.append(presyn_coords_immuno_nozclean[inv_filtered_matches_bassoon_nozfilter[i]])\n",
    "        #here we append the detections matched with these GTs backt o the presyn_coords_immuno list"
   ]
  },
  {
   "cell_type": "code",
   "execution_count": 59,
   "id": "c5d8a074-591f-4701-b8ed-b3c9b46fe77d",
   "metadata": {},
   "outputs": [],
   "source": [
    "presyn_coords_immuno_after_doublecheck_borders = new_presyn_immuno_detections + presyn_coords_immuno_after_doublecheck"
   ]
  },
  {
   "cell_type": "code",
   "execution_count": null,
   "id": "e9614d9a-a5ff-4b0d-925b-de78c5448a1f",
   "metadata": {},
   "outputs": [],
   "source": []
  },
  {
   "cell_type": "code",
   "execution_count": 60,
   "id": "b91415e2-59f5-416e-9f43-bb20752dbc0d",
   "metadata": {},
   "outputs": [
    {
     "name": "stdout",
     "output_type": "stream",
     "text": [
      "Computing matching costs...\n",
      "260 potential matches found\n",
      "TP:228\n",
      "FP:12\n",
      "FN:19\n",
      "Precision:0.95\n",
      "Recall:0.9230769230769231\n",
      "F1 score:0.9363449691991786\n"
     ]
    }
   ],
   "source": [
    "matching_threshold = 30\n",
    "precision,recall,fscore,filtered_matches_shank2_nozfilter = compute_molecule_detection_quality(locs_shank2_gt,np.stack(postsyn_coords_immuno_nozclean), matching_threshold)"
   ]
  },
  {
   "cell_type": "code",
   "execution_count": 61,
   "id": "dd238b08-70e0-439c-9e4c-6ba14a1d69a6",
   "metadata": {},
   "outputs": [
    {
     "name": "stdout",
     "output_type": "stream",
     "text": [
      "Computing matching costs...\n",
      "255 potential matches found\n",
      "TP:223\n",
      "FP:7\n",
      "FN:24\n",
      "Precision:0.9695652173913043\n",
      "Recall:0.902834008097166\n",
      "F1 score:0.9350104821802935\n"
     ]
    }
   ],
   "source": [
    "matching_threshold = 30\n",
    "precision,recall,fscore,filtered_matches_shank2_init = compute_molecule_detection_quality(locs_shank2_gt,np.stack(postsyn_coords_immuno_after_doublecheck), matching_threshold)"
   ]
  },
  {
   "cell_type": "code",
   "execution_count": 62,
   "id": "6c4ffee1-aa2e-4c28-90f1-f00480e27142",
   "metadata": {},
   "outputs": [],
   "source": [
    "tp_ids_init = list(zip(*filtered_matches_shank2_init))[1]\n",
    "tp_ids_nozfilter = list(zip(*filtered_matches_shank2_nozfilter))[1]\n",
    "s = set(tp_ids_init)\n",
    "potential_tps = [x for x in tp_ids_nozfilter if x not in s]"
   ]
  },
  {
   "cell_type": "code",
   "execution_count": 63,
   "id": "89f08b43-ce21-4959-bccb-e184149bde95",
   "metadata": {},
   "outputs": [],
   "source": [
    "inv_filtered_matches_shank2_nozfilter = dict((v, k) for k, v in dict(filtered_matches_shank2_nozfilter).items())"
   ]
  },
  {
   "cell_type": "code",
   "execution_count": 64,
   "id": "577169bc-6d04-4e02-a39f-df7ac2afceb8",
   "metadata": {},
   "outputs": [],
   "source": [
    "tps_to_keep = []\n",
    "new_postsyn_immuno_detections = []\n",
    "new_tps=0\n",
    "for i in potential_tps:\n",
    "    if locs_shank2_gt[i][0]<=10 or  locs_shank2_gt[i][0]>=190:\n",
    "        tps_to_keep.append(i)\n",
    "        new_tps+=1\n",
    "        new_postsyn_immuno_detections.append(postsyn_coords_immuno_nozclean[inv_filtered_matches_shank2_nozfilter[i]])\n",
    "        #here we append the detections matched with these GTs backt o the presyn_coords_immuno list"
   ]
  },
  {
   "cell_type": "code",
   "execution_count": 65,
   "id": "b3caa268-49d4-49f7-8773-cd91f6aae666",
   "metadata": {},
   "outputs": [],
   "source": [
    "postsyn_coords_immuno_after_doublecheck_borders = new_postsyn_immuno_detections + postsyn_coords_immuno_after_doublecheck"
   ]
  },
  {
   "cell_type": "code",
   "execution_count": 66,
   "id": "30d68cc8-da12-4f13-b8f7-7100e31a8686",
   "metadata": {},
   "outputs": [
    {
     "name": "stdout",
     "output_type": "stream",
     "text": [
      "Computing matching costs...\n",
      "267 potential matches found\n",
      "TP:244\n",
      "FP:20\n",
      "FN:17\n",
      "Precision:0.9242424242424242\n",
      "Recall:0.9348659003831418\n",
      "F1 score:0.9295238095238095\n"
     ]
    }
   ],
   "source": [
    "matching_threshold = 30\n",
    "precision,recall,fscore,filtered_matches_bassoon_final = compute_molecule_detection_quality(locs_bassoon_gt,np.stack(presyn_coords_immuno_after_doublecheck_borders), matching_threshold)"
   ]
  },
  {
   "cell_type": "code",
   "execution_count": 67,
   "id": "fb30c2e5-908e-4478-9c9f-268f5068acd7",
   "metadata": {},
   "outputs": [
    {
     "name": "stdout",
     "output_type": "stream",
     "text": [
      "Computing matching costs...\n",
      "263 potential matches found\n",
      "TP:231\n",
      "FP:7\n",
      "FN:16\n",
      "Precision:0.9705882352941176\n",
      "Recall:0.9352226720647774\n",
      "F1 score:0.9525773195876289\n"
     ]
    }
   ],
   "source": [
    "matching_threshold = 30\n",
    "precision,recall,fscore,filtered_matches_shank2_final = compute_molecule_detection_quality(locs_shank2_gt,np.stack(postsyn_coords_immuno_after_doublecheck_borders), matching_threshold)"
   ]
  },
  {
   "cell_type": "code",
   "execution_count": 68,
   "id": "762ebeab-e26c-41bd-89fb-e445e206d9d6",
   "metadata": {},
   "outputs": [
    {
     "name": "stdout",
     "output_type": "stream",
     "text": [
      "Computing matching costs...\n",
      "247 potential matches found\n"
     ]
    }
   ],
   "source": [
    "matches_map_doublecheck_final, filtered_matches_immuno_detecion_final = generate_matching_map(presyn_coords_immuno_after_doublecheck_borders,postsyn_coords_immuno_after_doublecheck_borders,matching_threshold=30)"
   ]
  },
  {
   "cell_type": "code",
   "execution_count": 69,
   "id": "d3b6c065-6820-49a5-90be-ad6c1c6a4a76",
   "metadata": {},
   "outputs": [],
   "source": [
    "#match detected bassoon and shank2 with full gt synapses\n",
    "full_synapses_gt_and_immuno_after_doublecheck_final = match_detected_and_gt_full_synapses(pre_synapses_gt, post_synapses_gt, full_synapses_gt,filtered_matches_bassoon_final,filtered_matches_shank2_final)"
   ]
  },
  {
   "cell_type": "code",
   "execution_count": 70,
   "id": "f2b84129-0889-4214-afbe-91ecece25122",
   "metadata": {},
   "outputs": [
    {
     "name": "stdout",
     "output_type": "stream",
     "text": [
      "FP full-synapse:19\n",
      "TP full-synapse:219\n",
      "FN full-synapse:23\n",
      "Precision:0.9201680672268907\n",
      "Recall:0.9049586776859504\n",
      "F1 score:0.9124999999999999\n"
     ]
    }
   ],
   "source": [
    "#compute F1 score of full synapse detection\n",
    "fprecision,frecall,ffscore = compute_full_synapse_detection_quality(full_synapses_gt_and_immuno_after_doublecheck_final,matches_map_doublecheck_final)"
   ]
  },
  {
   "cell_type": "code",
   "execution_count": null,
   "id": "86a96c74-9789-4bd7-977a-dd732038b2e2",
   "metadata": {},
   "outputs": [],
   "source": []
  }
 ],
 "metadata": {
  "kernelspec": {
   "display_name": "Python 3 (ipykernel)",
   "language": "python",
   "name": "python3"
  },
  "language_info": {
   "codemirror_mode": {
    "name": "ipython",
    "version": 3
   },
   "file_extension": ".py",
   "mimetype": "text/x-python",
   "name": "python",
   "nbconvert_exporter": "python",
   "pygments_lexer": "ipython3",
   "version": "3.9.17"
  }
 },
 "nbformat": 4,
 "nbformat_minor": 5
}
