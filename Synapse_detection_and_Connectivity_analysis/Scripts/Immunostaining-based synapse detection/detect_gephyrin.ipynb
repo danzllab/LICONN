{
 "cells": [
  {
   "cell_type": "code",
   "execution_count": 1,
   "id": "cfee9d83-35d0-4b87-98f5-79962f37bfe1",
   "metadata": {},
   "outputs": [],
   "source": [
    "import os\n",
    "import napari\n",
    "from skimage.io import imread\n",
    "import tifffile\n",
    "import numpy as np\n",
    "import zarr\n",
    "from skimage.util import invert\n",
    "\n",
    "from scipy import ndimage as ndi\n",
    "import pandas as pd\n",
    "from skimage.filters import threshold_otsu\n",
    "from skimage.exposure import rescale_intensity\n",
    "from skimage.morphology import ball, binary_opening\n",
    "from skimage.measure import label, regionprops"
   ]
  },
  {
   "cell_type": "markdown",
   "id": "8b8f1847-6645-4450-be36-8ec7251572af",
   "metadata": {
    "tags": []
   },
   "source": [
    "### Helper functions"
   ]
  },
  {
   "cell_type": "code",
   "execution_count": 2,
   "id": "9348e389-e094-4ac2-b91b-c893f20847ad",
   "metadata": {},
   "outputs": [],
   "source": [
    "def erase_small(labels, min_size):\n",
    "    unique, counts = np.unique(labels, return_counts=True)\n",
    "    for i in range(len(unique)):\n",
    "        if counts[i]<min_size:\n",
    "            labels[labels==unique[i]]=0\n",
    "    return labels\n",
    "\n",
    "    #remove_background\n",
    "def remove_backg(img, sig1=1,sig2=15):\n",
    "    ('removing background from immuno channel')\n",
    "    #img = img.astype('int16')\n",
    "    img_sig =ndi.gaussian_filter(img, (sig1, sig1,sig1))\n",
    "    img_bcg = ndi.gaussian_filter(img, (sig2,sig2,sig2))\n",
    "    cleaned = img_sig - img_bcg\n",
    "    cleaned[cleaned<0]=0\n",
    "    return cleaned"
   ]
  },
  {
   "cell_type": "markdown",
   "id": "da1c9051-8675-4568-8a8f-b57ea75c1b58",
   "metadata": {},
   "source": [
    "### 1. Load raw data"
   ]
  },
  {
   "cell_type": "code",
   "execution_count": 3,
   "id": "5dcd4aab-9410-4baf-aec4-9412267b3c55",
   "metadata": {},
   "outputs": [],
   "source": [
    "file_name = \"../../Data/LICONN_gephyrin_test.tif\"\n",
    "data = tifffile.imread(file_name)"
   ]
  },
  {
   "cell_type": "markdown",
   "id": "35794531-75ce-4e83-93c2-658f485ef885",
   "metadata": {},
   "source": [
    "### 2. Detect gephyrin "
   ]
  },
  {
   "cell_type": "code",
   "execution_count": 21,
   "id": "cec5a739-8ce4-4784-adbb-e8d802a6f4e2",
   "metadata": {},
   "outputs": [
    {
     "name": "stdout",
     "output_type": "stream",
     "text": [
      "image cleanded\n",
      "image threholded\n",
      "image labeled\n"
     ]
    },
    {
     "data": {
      "text/plain": [
       "'\\nfile = open(\\'gephyrin_coords.txt\\',\\'w\\')\\nfor item in gephyrin_coords:\\n\\tfile.write(str(item)+\"\\n\")\\nfile.close()\\n'"
      ]
     },
     "execution_count": 21,
     "metadata": {},
     "output_type": "execute_result"
    }
   ],
   "source": [
    "#select the channel\n",
    "gephyrin = data[2,:,:,:]\n",
    "\n",
    "#rescale intensity\n",
    "img = gephyrin.astype('float32')\n",
    "mi = 101\n",
    "ma = np.percentile(img, 99.99)\n",
    "img = rescale_intensity(img, in_range=(mi, ma))\n",
    "\n",
    "#clean background\n",
    "sig1=1\n",
    "sig2=10\n",
    "img_clean =remove_backg(img,sig1,sig2)\n",
    "\n",
    "#threshold and label\n",
    "threshold =  threshold_otsu(img_clean)\n",
    "mask = img_clean > threshold\n",
    "mask = binary_opening(mask,ball(4))\n",
    "labels = label(mask)\n",
    "labels_gephyrin = erase_small(labels, 150)\n",
    "\n",
    "#get coordinates\n",
    "rp = regionprops(labels_gephyrin)\n",
    "gephyrin_coords = []\n",
    "for r in rp:\n",
    "    gephyrin_coords.append(np.array(r.centroid))"
   ]
  },
  {
   "cell_type": "markdown",
   "id": "2cbdc99c-5cc5-4192-aae3-4c75937cb2b4",
   "metadata": {},
   "source": [
    "### 3. Visualize results in napari"
   ]
  },
  {
   "cell_type": "code",
   "execution_count": 23,
   "id": "710d4678-681a-4079-ad5c-1c3734b23057",
   "metadata": {},
   "outputs": [
    {
     "data": {
      "text/plain": [
       "<Points layer 'Points' at 0x24c3e7d2c40>"
      ]
     },
     "execution_count": 23,
     "metadata": {},
     "output_type": "execute_result"
    }
   ],
   "source": [
    "viewer = napari.Viewer()\n",
    "viewer.add_image(data[0,:,:,:],colormap='gray')\n",
    "viewer.add_image(gephyrin,colormap = 'yellow', blending = 'additive')\n",
    "viewer.add_points(np.stack(gephyrin_coords).astype('uint32'), size=10, face_color = 'red')"
   ]
  }
 ],
 "metadata": {
  "kernelspec": {
   "display_name": "Python 3 (ipykernel)",
   "language": "python",
   "name": "python3"
  },
  "language_info": {
   "codemirror_mode": {
    "name": "ipython",
    "version": 3
   },
   "file_extension": ".py",
   "mimetype": "text/x-python",
   "name": "python",
   "nbconvert_exporter": "python",
   "pygments_lexer": "ipython3",
   "version": "3.9.17"
  }
 },
 "nbformat": 4,
 "nbformat_minor": 5
}
