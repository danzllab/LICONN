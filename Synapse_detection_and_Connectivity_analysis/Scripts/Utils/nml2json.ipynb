{
 "cells": [
  {
   "cell_type": "code",
   "execution_count": 1,
   "id": "d685fb01-aff6-486d-932f-07688764e67f",
   "metadata": {},
   "outputs": [],
   "source": [
    "from bs4 import BeautifulSoup\n",
    "import json\n",
    "import numpy as np"
   ]
  },
  {
   "cell_type": "code",
   "execution_count": 2,
   "id": "b936da8a-0ef1-4716-8198-4efd2e1a7fc7",
   "metadata": {},
   "outputs": [],
   "source": [
    "with open('../../Data/LICONN_test_data_wk_annotations.nml', 'r') as f:\n",
    "    data = f.read()"
   ]
  },
  {
   "cell_type": "code",
   "execution_count": 3,
   "id": "1ec6fdd5-dc8e-418a-8683-bceca249954c",
   "metadata": {},
   "outputs": [],
   "source": [
    "Bs_data = BeautifulSoup(data, \"xml\")\n",
    "res = Bs_data.find_all('thing')"
   ]
  },
  {
   "cell_type": "markdown",
   "id": "89cd2d74-12fe-424e-839b-3f54f831392b",
   "metadata": {},
   "source": [
    "### Convert .nml (webknossos format) annotations to .json format\n",
    "Annotation rules:\n",
    "1. Synapses are represented as skeletons, where by default \"source\" node corresponds to the pre-synapse, and \"target\" node corresponds to the post-synapse. This covers the cases with 1-to-1 pre-post synaptic connections as well as cases where one pre-synapse is connected to multiple post-synapses (we label these cases with a comment \"pre\")\n",
    "2. If one post-synaptic site is connected to multiple pre-synapses, then the post-synapse is annotated as a \"source\" and all pre-synapses it is connected to are \"targets\". We label these cases with a comment \"post\"\n",
    "3. Single pre-synapses and post-synapses are annotated as individual nodes and are labeled with comments \"pre only\" and \"post only\""
   ]
  },
  {
   "cell_type": "code",
   "execution_count": 21,
   "id": "aadf7a5a-da6c-45d3-8cc2-60d6a1bd027b",
   "metadata": {},
   "outputs": [],
   "source": [
    "#get the list of all nodes\n",
    "nodes = Bs_data.find_all(\"nodes\")\n",
    "verts={}\n",
    "for inpu in nodes:\n",
    "    for inpu1 in inpu.select('node'):\n",
    "        x = inpu1.get('x')\n",
    "        y = inpu1.get('y')\n",
    "        z = inpu1.get('z')\n",
    "        loc = [float(x), float(y), float(z)]\n",
    "        verts[inpu1.get('id')] = {\"location\": loc}"
   ]
  },
  {
   "cell_type": "code",
   "execution_count": 22,
   "id": "2ce942d5-eb2c-41dc-b70d-6399aad2430a",
   "metadata": {},
   "outputs": [],
   "source": [
    "#get comments\n",
    "comms =  Bs_data.find_all('comment')"
   ]
  },
  {
   "cell_type": "code",
   "execution_count": 23,
   "id": "e5583843-60b7-441a-b5c6-029e1ab1c9f7",
   "metadata": {},
   "outputs": [],
   "source": [
    "#make lists with pre-synapses and post-synapses that are part of one-to-many arrangements \n",
    "pre_list = []\n",
    "post_list = []\n",
    "for i in range(len(comms)):\n",
    "    content = comms[i].get('content')\n",
    "    n = comms[i].get('node')\n",
    "    if content =='pre' or content == 'Pre':\n",
    "        pre_list.append(n)\n",
    "    if content == 'post':\n",
    "        post_list.append(n)      \n",
    "edges = Bs_data.find_all(\"edges\") \n",
    "post_list_upd= []\n",
    "for inpu in edges:\n",
    "    for inpu1 in inpu.select('edge'):\n",
    "        if inpu1.get('source') in post_list or inpu1.get('target') in post_list:\n",
    "            post_list_upd.append(inpu1.get('source'))\n",
    "post_list_upd = list(dict.fromkeys(post_list_upd))"
   ]
  },
  {
   "cell_type": "code",
   "execution_count": 24,
   "id": "7c93ec77-6023-4dab-b59e-788d733f2afa",
   "metadata": {},
   "outputs": [],
   "source": [
    "#make a list of connections between pre- and post-synapses\n",
    "edges = Bs_data.find_all(\"edges\")\n",
    "links = []\n",
    "for inpu in edges:\n",
    "    for inpu1 in inpu.select('edge'):\n",
    "        if inpu1.get('source') in post_list_upd:\n",
    "            links.append({'pre-synapse': inpu1.get('target'), 'post-synapse': inpu1.get('source')})\n",
    "        else:\n",
    "            links.append({'pre-synapse': inpu1.get('source'), 'post-synapse': inpu1.get('target')})"
   ]
  },
  {
   "cell_type": "code",
   "execution_count": 31,
   "id": "75261e83-ddd5-4029-a7bf-d4d5e2f41f00",
   "metadata": {},
   "outputs": [],
   "source": [
    "#write full synapses to the .json file\n",
    "data = {'partners': links, 'ids': verts}     \n",
    "json_string = json.dumps(data)\n",
    "with open('../../Data/LICONN_test_dataset_full_synapses.json', 'w') as f:\n",
    "    json.dump(data, f)"
   ]
  },
  {
   "cell_type": "code",
   "execution_count": 32,
   "id": "646002fc-ec60-40ad-aa02-089ae495ab9d",
   "metadata": {},
   "outputs": [],
   "source": [
    "#make lists of single pre- and post- annotations using comments\n",
    "only_pre_list = []\n",
    "only_post_list = []\n",
    "for i in range(len(comms)):\n",
    "    content = comms[i].get('content')\n",
    "    n = comms[i].get('node')\n",
    "    if content =='pre only':\n",
    "        only_pre_list.append(n)\n",
    "    if content == 'post only':\n",
    "        only_post_list.append(n)"
   ]
  },
  {
   "cell_type": "code",
   "execution_count": 33,
   "id": "61b7ab24-5b73-415c-96dc-c0798124bb31",
   "metadata": {},
   "outputs": [],
   "source": [
    "verts_single_pre={}\n",
    "for inpu in nodes:\n",
    "    for inpu1 in inpu.select('node'):\n",
    "        if inpu1.get('id') in only_pre_list:\n",
    "            x = inpu1.get('x')\n",
    "            y = inpu1.get('y')\n",
    "            z = inpu1.get('z')\n",
    "            loc = [float(x), float(y), float(z)]\n",
    "            verts_single_pre[inpu1.get('id')] = {\"location\": loc}"
   ]
  },
  {
   "cell_type": "code",
   "execution_count": 34,
   "id": "339d422e-4bcf-479b-847c-1c041468d26c",
   "metadata": {},
   "outputs": [],
   "source": [
    "data = {'ids': verts_single_pre}\n",
    "json_string = json.dumps(data)\n",
    "with open('../../Data/LICONN_test_dataset_single_pre.json', 'w') as f:\n",
    "    json.dump(data, f)"
   ]
  },
  {
   "cell_type": "code",
   "execution_count": 35,
   "id": "19304046-cc45-4a7e-a0cd-2650f54087f9",
   "metadata": {},
   "outputs": [],
   "source": [
    "verts_single_post={}\n",
    "for inpu in nodes:\n",
    "    for inpu1 in inpu.select('node'):\n",
    "        if inpu1.get('id') in only_post_list:\n",
    "            x = inpu1.get('x')\n",
    "            y = inpu1.get('y')\n",
    "            z = inpu1.get('z')\n",
    "            loc = [float(x), float(y), float(z)]\n",
    "            verts_single_post[inpu1.get('id')] = {\"location\": loc}"
   ]
  },
  {
   "cell_type": "code",
   "execution_count": 36,
   "id": "eaa40db4-6f46-4e40-b695-55194563c15d",
   "metadata": {},
   "outputs": [],
   "source": [
    "data = {'ids': verts_single_post}\n",
    "json_string = json.dumps(data)\n",
    "with open('../../Data/LICONN_test_dataset_single_post.json', 'w') as f:\n",
    "    json.dump(data, f)"
   ]
  },
  {
   "cell_type": "code",
   "execution_count": null,
   "id": "82743580-c242-4b61-b119-fed8cef75c68",
   "metadata": {},
   "outputs": [],
   "source": []
  }
 ],
 "metadata": {
  "kernelspec": {
   "display_name": "Python 3 (ipykernel)",
   "language": "python",
   "name": "python3"
  },
  "language_info": {
   "codemirror_mode": {
    "name": "ipython",
    "version": 3
   },
   "file_extension": ".py",
   "mimetype": "text/x-python",
   "name": "python",
   "nbconvert_exporter": "python",
   "pygments_lexer": "ipython3",
   "version": "3.9.17"
  }
 },
 "nbformat": 4,
 "nbformat_minor": 5
}
